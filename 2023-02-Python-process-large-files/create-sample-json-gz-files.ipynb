{
 "cells": [
  {
   "attachments": {},
   "cell_type": "markdown",
   "metadata": {},
   "source": [
    "# Create sample data\n",
    "\n",
    "I wanted some sample data that was easier to understand than actual end-user event data stream.\n",
    "\n",
    "I thought a collection of files with simple colour data might be easier to use and understand;\n",
    "it would also work well with the colourful diagram I have in mind.\n",
    "\n",
    "I found a wonderful website with lots of example colours:\n",
    "[Colours Explained](https://www.colorsexplained.com/meanings-of-the-colors/)\n",
    "\n",
    "This little Jupyter notebook uses Beautiful Soup to download the colour webpages and extract\n",
    "just the basic colour information.\n",
    "It then saves all of this colour data into simple `.json.gz` compressed JSON files, which\n",
    "I have uploaded to S3 for the blog.\n"
   ]
  },
  {
   "cell_type": "code",
   "execution_count": 1,
   "metadata": {},
   "outputs": [
    {
     "name": "stdout",
     "output_type": "stream",
     "text": [
      "Requirement already satisfied: pyfunctional in c:\\dev\\python3\\lib\\site-packages (1.4.3)\n",
      "Requirement already satisfied: dill>=0.2.5 in c:\\dev\\python3\\lib\\site-packages (from pyfunctional) (0.3.5.1)\n",
      "Requirement already satisfied: tabulate<=1.0.0 in c:\\dev\\python3\\lib\\site-packages (from pyfunctional) (0.9.0)\n"
     ]
    }
   ],
   "source": [
    "!pip install pyfunctional"
   ]
  },
  {
   "cell_type": "code",
   "execution_count": 1,
   "metadata": {},
   "outputs": [],
   "source": [
    "import re\n",
    "import gzip\n",
    "import uuid\n",
    "import requests\n",
    "import json\n",
    "from bs4 import BeautifulSoup\n",
    "from dataclasses import dataclass\n",
    "from typing import Any, Generator\n",
    "\n",
    "from functional import seq  # type: ignore[reportMissingTypeStubs]"
   ]
  },
  {
   "attachments": {},
   "cell_type": "markdown",
   "metadata": {},
   "source": [
    "## Domain model"
   ]
  },
  {
   "cell_type": "code",
   "execution_count": 10,
   "metadata": {},
   "outputs": [],
   "source": [
    "@dataclass(frozen=True)\n",
    "class Colour:\n",
    "    \"\"\"A very small data class that holds a colour name and details.\"\"\"\n",
    "\n",
    "    name: str\n",
    "    base: str\n",
    "    hex: str\n",
    "    rgb: tuple[int, int, int]\n",
    "\n",
    "\n",
    "@dataclass(frozen=True)\n",
    "class ColourId:\n",
    "    \"\"\"A very small data class that holds a colour name and details.\"\"\"\n",
    "\n",
    "    id: str\n",
    "    name: str\n",
    "    base: str\n",
    "    hex: str\n",
    "    rgb: tuple[int, int, int]\n",
    "\n",
    "    def toJSON(self) -> dict[str, Any]:\n",
    "        return {\n",
    "            \"id\": self.id,\n",
    "            \"name\": self.name,\n",
    "            \"base\": self.base,\n",
    "            \"hex\": self.hex,\n",
    "            \"rgb\": self.rgb,\n",
    "        }"
   ]
  },
  {
   "cell_type": "code",
   "execution_count": 3,
   "metadata": {},
   "outputs": [],
   "source": [
    "def add_id_to_colour(colour: Colour) -> ColourId:\n",
    "    \"\"\"Add an ID to a colour object to make it more like an 'event'.\"\"\"\n",
    "    id = str(uuid.uuid4())\n",
    "    return ColourId(id, colour.name, colour.base, colour.hex, colour.rgb)"
   ]
  },
  {
   "attachments": {},
   "cell_type": "markdown",
   "metadata": {},
   "source": [
    "## Data extraction functions\n",
    "\n",
    "These functions help parse the data in the HTML pages."
   ]
  },
  {
   "cell_type": "code",
   "execution_count": 4,
   "metadata": {},
   "outputs": [],
   "source": [
    "def extract_hex_colour(text: str) -> str | None:\n",
    "    \"\"\"Extract the HEX colour from the given text\"\"\"\n",
    "    # Define the regular expression pattern to match the HTML HEX color\n",
    "    hex_colour_pattern = r\"#[0-9a-fA-F]{6}\"\n",
    "\n",
    "    # Use the re.findall() method to extract all matches of the pattern in the text\n",
    "    match = re.search(hex_colour_pattern, text, re.IGNORECASE)\n",
    "    return match.group(0) if match is not None else None\n",
    "\n",
    "\n",
    "# A small test to ensure the function works as we expect\n",
    "test_text = \"This text contains a color code: #FFA500 and more text after\"\n",
    "result = extract_hex_colour(test_text)\n",
    "assert result == \"#FFA500\", f\"Expected #FFA500 but got '{result}'\"\n",
    "assert extract_hex_colour(\"No hex colour\") is None, \"Should have retrieved None result\""
   ]
  },
  {
   "cell_type": "code",
   "execution_count": 5,
   "metadata": {},
   "outputs": [],
   "source": [
    "def extract_rgb_colour(text: str) -> tuple[int, int, int] | None:\n",
    "    \"\"\"Extract the RBG colour information from the given text\"\"\"\n",
    "    # Define the regular expression pattern to match the RGB color\n",
    "    rgb_colour_pattern = r\"rgb\\s*(\\d{1,3}),\\s*(\\d{1,3}),\\s*(\\d{1,3})\"\n",
    "\n",
    "    # Use the re.search() method to find the first match of the pattern in the text\n",
    "    match = re.search(rgb_colour_pattern, text, re.IGNORECASE)\n",
    "\n",
    "    # If a match is found, extract the RGB color values from the match object\n",
    "    if not match:\n",
    "        return None\n",
    "\n",
    "    # Turn the values into numbers\n",
    "    red = int(match.group(1))\n",
    "    green = int(match.group(2))\n",
    "    blue = int(match.group(3))\n",
    "    return (red, green, blue)\n",
    "\n",
    "\n",
    "# A small test to ensure the function works as we expect\n",
    "test_text = \"This text contains a color code: rgb 1, 2, 342 and more text after\"\n",
    "result = extract_rgb_colour(test_text)\n",
    "assert result == (1, 2, 342), f\"Expected (1,2,342) but got '{result}'\""
   ]
  },
  {
   "attachments": {},
   "cell_type": "markdown",
   "metadata": {},
   "source": [
    "## Helper function to save a compressed JSON file"
   ]
  },
  {
   "cell_type": "code",
   "execution_count": 7,
   "metadata": {},
   "outputs": [],
   "source": [
    "def save_to_json_gz_file(file_name: str, data: Any) -> None:\n",
    "    \"\"\"Save the given data into the given json.gz file\"\"\"\n",
    "    with gzip.GzipFile(file_name, \"w\") as file_out:\n",
    "        json_str: str = json.dumps(data, indent=2)\n",
    "        json_bytes = json_str.encode(\"utf-8\")\n",
    "        file_out.write(json_bytes)"
   ]
  },
  {
   "attachments": {},
   "cell_type": "markdown",
   "metadata": {},
   "source": [
    "## Download and extract data from a colour webpage"
   ]
  },
  {
   "cell_type": "code",
   "execution_count": 6,
   "metadata": {},
   "outputs": [],
   "source": [
    "def download_colour_data(\n",
    "    base_colour: str,\n",
    "    url: str,\n",
    ") -> Generator[Colour, None, None]:\n",
    "    \"\"\"Extract all the colour from the given URL\"\"\"\n",
    "\n",
    "    # Send a request to the URL and get the response\n",
    "    response = requests.get(url)\n",
    "\n",
    "    # Use Beautiful Soup to parse the HTML content of the response\n",
    "    soup = BeautifulSoup(response.content, \"html.parser\")\n",
    "\n",
    "    for paragraph in soup.find_all(\"p\", class_=\"has-white-color\"):\n",
    "        # Find the name in the paragraph data where the name is inside an HTML strong element\n",
    "        name_element = paragraph.find(\"strong\")\n",
    "        if not name_element:\n",
    "            continue\n",
    "        name = name_element.text\n",
    "\n",
    "        # Extract the colour information in different ways\n",
    "        hex = extract_hex_colour(paragraph.text)\n",
    "        rgb = extract_rgb_colour(paragraph.text)\n",
    "        if hex is None or rgb is None:\n",
    "            continue\n",
    "\n",
    "        # We have all the information needed to create the colour\n",
    "        yield Colour(name, base_colour, hex, rgb)\n",
    "\n",
    "\n",
    "# Test our code\n",
    "test_url = \"https://www.colorsexplained.com/shades-of-red-color-names/\"\n",
    "result = download_colour_data(\"red\", test_url)\n",
    "actual_colours: list[Colour] = seq(result).take(3)  # type: ignore\n",
    "\n",
    "expected1 = Colour(\"Carmine\", \"red\", \"#960018\", (150, 0, 24))\n",
    "expected2 = Colour(\"Burgundy\", \"red\", \"#8D021F\", (141, 2, 31))\n",
    "expected3 = Colour(\"Vivid burgundy\", \"red\", \"#9F1D35\", (159, 29, 53))\n",
    "\n",
    "assert (\n",
    "    actual_colours[0] == expected1\n",
    "), f\"Expected {expected1} but got {actual_colours[0]}\"\n",
    "assert (\n",
    "    actual_colours[1] == expected2\n",
    "), f\"Expected {expected2} but got {actual_colours[1]}\"\n",
    "assert (\n",
    "    actual_colours[2] == expected3\n",
    "), f\"Expected {expected3} but got {actual_colours[2]}\""
   ]
  },
  {
   "attachments": {},
   "cell_type": "markdown",
   "metadata": {},
   "source": [
    "## \"main\" code to download, extract and save all the colour data"
   ]
  },
  {
   "cell_type": "code",
   "execution_count": 19,
   "metadata": {},
   "outputs": [],
   "source": [
    "def create_colours_url(colour_name: str) -> str:\n",
    "    \"\"\"Convert a colour name into a colour URL\"\"\"\n",
    "    return f\"https://www.colorsexplained.com/shades-of-{colour_name}-color-names/\""
   ]
  },
  {
   "cell_type": "code",
   "execution_count": 18,
   "metadata": {},
   "outputs": [],
   "source": [
    "# The list of colours that are documented\n",
    "colour_names = [\n",
    "    \"black\",\n",
    "    \"blue\",\n",
    "    \"gray\",\n",
    "    \"green\",\n",
    "    \"orange\",\n",
    "    \"pink\",\n",
    "    \"purple\",\n",
    "    \"red\",\n",
    "    \"yellow\",\n",
    "]"
   ]
  },
  {
   "cell_type": "code",
   "execution_count": null,
   "metadata": {},
   "outputs": [],
   "source": [
    "# Download all the colours into a simple data structure,\n",
    "# add a GUID ID to each colour and then save the data into a .json.gz file\n",
    "# for the blog post to process\n",
    "for colour in colour_names:\n",
    "    url = create_colours_url(colour)\n",
    "    colours = download_colour_data(colour, url)\n",
    "\n",
    "    colours_with_ids_json: list[ColourId] = (\n",
    "        seq(colours)  # type: ignore\n",
    "        .map(add_id_to_colour)  # type: ignore\n",
    "        .map(lambda c: c.toJSON())  # type: ignore\n",
    "        .to_list()  # type: ignore\n",
    "    )  # type: ignore\n",
    "\n",
    "    num_found_colours = len(colours_with_ids_json)\n",
    "    if num_found_colours == 0:\n",
    "        print(f\"NO colours found for: {colour}\")\n",
    "    else:\n",
    "        print(f\"Found {num_found_colours} colours for {colour}\")\n",
    "        output_file_name = f\"./small-files/{colour}.json.gz\"\n",
    "        save_to_json_gz_file(output_file_name, colours_with_ids_json)"
   ]
  }
 ],
 "metadata": {
  "kernelspec": {
   "display_name": "Python 3",
   "language": "python",
   "name": "python3"
  },
  "language_info": {
   "codemirror_mode": {
    "name": "ipython",
    "version": 3
   },
   "file_extension": ".py",
   "mimetype": "text/x-python",
   "name": "python",
   "nbconvert_exporter": "python",
   "pygments_lexer": "ipython3",
   "version": "3.10.10"
  },
  "orig_nbformat": 4,
  "vscode": {
   "interpreter": {
    "hash": "eb06f964ad5f6b1bbfd3fdf7106bdbdd9638f61f30f9c922a33f9fa20d941e6d"
   }
  }
 },
 "nbformat": 4,
 "nbformat_minor": 2
}
